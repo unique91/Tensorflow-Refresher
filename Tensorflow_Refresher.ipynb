{
  "nbformat": 4,
  "nbformat_minor": 0,
  "metadata": {
    "colab": {
      "provenance": [],
      "authorship_tag": "ABX9TyMC/z7z+PheFIwfcMHv+mmQ",
      "include_colab_link": true
    },
    "kernelspec": {
      "name": "python3",
      "display_name": "Python 3"
    },
    "language_info": {
      "name": "python"
    }
  },
  "cells": [
    {
      "cell_type": "markdown",
      "metadata": {
        "id": "view-in-github",
        "colab_type": "text"
      },
      "source": [
        "<a href=\"https://colab.research.google.com/github/unique91/Tensorflow-Refresher/blob/main/Tensorflow_Refresher.ipynb\" target=\"_parent\"><img src=\"https://colab.research.google.com/assets/colab-badge.svg\" alt=\"Open In Colab\"/></a>"
      ]
    },
    {
      "cell_type": "code",
      "execution_count": 1,
      "metadata": {
        "id": "uSvVxiDhYrBT"
      },
      "outputs": [],
      "source": [
        "import tensorflow as tf\n",
        "import numpy as np\n",
        "import random\n",
        "import matplotlib.pyplot as plt"
      ]
    },
    {
      "cell_type": "code",
      "source": [
        "SEED_VALUE = 42\n",
        "random.seed(SEED_VALUE)\n",
        "np.random.seed(SEED_VALUE)\n",
        "tf.random.set_seed(SEED_VALUE)"
      ],
      "metadata": {
        "id": "ZFW1ujeIY5cx"
      },
      "execution_count": 2,
      "outputs": []
    },
    {
      "cell_type": "code",
      "source": [
        "# 1. TensorFlow Constants and Variables\n",
        "# Hint: Tensorflow variables requie the use of the assign() method to change the value of a variable.\n",
        "\n",
        "# 1.1 TensorFlow Constants\n",
        "rank_0_tensor = tf.constant(3)\n",
        "print(rank_0_tensor)\n",
        "\n",
        "rank_0_tensor = tf.constant(3.141592654)\n",
        "print(rank_0_tensor)\n",
        "\n",
        "rank_0_tensor = tf.constant(3.141592654, dtype=tf.float64)\n",
        "print(rank_0_tensor)\n",
        "\n",
        "t1 = tf.constant([[1, 2, 3], [4, 5, 6]])\n",
        "t2 = tf.constant([[7, 8, 9], [10, 11, 12]])\n",
        "print(t1); print('\\n')\n",
        "print(t2); print('\\n')\n",
        "\n",
        "print(tf.concat([t1, t2], axis=0))\n",
        "print(tf.concat([t1, t2], axis=1))\n",
        "\n",
        "# 1.2 TensorFlow Variables\n",
        "tensor = tf.Variable([2, 4])\n",
        "\n",
        "# Attempt to assign a new value to 0-th tensor element\n",
        "try:\n",
        "  tensor[0] = 11\n",
        "  print('Tensor: ', tensor)\n",
        "except TypeError:\n",
        "  print(\"\\nError: A tensor object does not support item assignment\")\n",
        "\n",
        "# -> The unique thing about TensorFlow variables is that you cannot use the\n",
        "# assignment (=) operator to assign a new value to a variable. You must use\n",
        "# the assign() method.\n",
        "tensor[0].assign(42)\n",
        "print('Tensor: ', tensor)"
      ],
      "metadata": {
        "id": "Ga6szyd-Zb_Q"
      },
      "execution_count": null,
      "outputs": []
    },
    {
      "cell_type": "code",
      "source": [
        "# 2. TensorFlow Reduce Functions\n",
        "x = 10 * tf.random.uniform(shape=[3,5])\n",
        "print(x)\n",
        "\n",
        "xmin = tf.reduce_min(x); print('min:  ', xmin)\n",
        "xmax = tf.reduce_max(x); print('max:  ', xmax)\n",
        "xmean = tf.reduce_mean(x); print('mean: ', xmean)\n",
        "xsum = tf.reduce_sum(x); print('sum:  ', xsum)"
      ],
      "metadata": {
        "id": "3YSlfMSZc1FC"
      },
      "execution_count": null,
      "outputs": []
    },
    {
      "cell_type": "code",
      "source": [
        "# 3. TensorFlow Indexing (gather)\n",
        "# 3.1 Numpy array indexing\n",
        "num_data = 24\n",
        "data = np.random.uniform(0, 10, num_data)\n",
        "print('data: \\n', data); print('\\n')\n",
        "\n",
        "indices = np.random.choice(data.shape[0], 5, replace=False)\n",
        "print('indices: ', indices); print('\\n')\n",
        "\n",
        "selected_data = data[indices]\n",
        "print('selected_data: ', selected_data)\n",
        "\n",
        "# 3.2 TensorFlow array indexing\n",
        "data = tf.random.uniform(shape=[num_data])\n",
        "print('data: \\n', data); print('\\n')\n",
        "\n",
        "indices = tf.random.uniform([5], minval=0, maxval=len(data)-1, dtype=tf.dtypes.int32)\n",
        "print('indices: ', indices); print('\\n')\n",
        "\n",
        "selected_data = tf.gather(data, indices)\n",
        "print('selected_data: ', selected_data)\n",
        "\n",
        "tensor = tf.random.normal(shape=[5, 3])\n",
        "print(tensor); print('\\n')\n",
        "\n",
        "rows = tf.constant([0, 2, 4])\n",
        "cols = tf.constant([0, 2])\n",
        "print(tf.gather(tensor, rows, axis=0))\n",
        "print(tf.gather(tensor, cols, axis=1))"
      ],
      "metadata": {
        "id": "5r0aNu5-e6lV"
      },
      "execution_count": null,
      "outputs": []
    },
    {
      "cell_type": "code",
      "source": [
        "# 4. NumPy / TensorFlow Interoperability\n",
        "python_list = [1, 2]\n",
        "numpy_array = np.array(python_list)\n",
        "tensor_from_list = tf.convert_to_tensor(python_list)\n",
        "tensor_from_array = tf.convert_to_tensor(numpy_array)\n",
        "array_from_tensor = tensor_from_array.numpy()\n",
        "\n",
        "print('List:', python_list)\n",
        "print('Array:', numpy_array)\n",
        "print('Tensor:', tensor_from_list)\n",
        "print('Tensor:', tensor_from_array)\n",
        "print('Array', array_from_tensor)"
      ],
      "metadata": {
        "colab": {
          "base_uri": "https://localhost:8080/"
        },
        "id": "PSgZoG7VmKZt",
        "outputId": "6a1fec5e-bffc-4d10-c8ab-bfbc41e7bcaa"
      },
      "execution_count": 33,
      "outputs": [
        {
          "output_type": "stream",
          "name": "stdout",
          "text": [
            "List: [1, 2]\n",
            "Array: [1 2]\n",
            "Tensor: tf.Tensor([1 2], shape=(2,), dtype=int32)\n",
            "Tensor: tf.Tensor([1 2], shape=(2,), dtype=int64)\n",
            "Array [1 2]\n"
          ]
        }
      ]
    }
  ]
}